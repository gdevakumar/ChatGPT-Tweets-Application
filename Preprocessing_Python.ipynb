{
 "cells": [
  {
   "cell_type": "code",
   "execution_count": null,
   "metadata": {
    "colab": {
     "base_uri": "https://localhost:8080/",
     "height": 495
    },
    "id": "WkzDak7J7-Pw",
    "outputId": "d55c4243-84d0-474d-d680-937389aea444"
   },
   "outputs": [],
   "source": [
    "import pandas as pd\n",
    "import csv\n",
    "from mysql.connector import connect\n",
    "\n",
    "FILE_PATH = \"chatgpt1.csv\"\n",
    "df = pd.read_csv(FILE_PATH)\n",
    "df.head()"
   ]
  },
  {
   "cell_type": "code",
   "execution_count": null,
   "metadata": {
    "id": "HKNNKGMb8oFX"
   },
   "outputs": [],
   "source": [
    "# Changing datetime column to SQL format datetime\n",
    "df['Datetime'] = df['Datetime'].apply(lambda x: x.split(\"+\")[0])"
   ]
  },
  {
   "cell_type": "code",
   "execution_count": null,
   "metadata": {
    "id": "LdkaAe8z9MJn"
   },
   "outputs": [],
   "source": [
    "# To extract value from Source field by eliminating html tags\n",
    "\n",
    "from bs4 import BeautifulSoup\n",
    "\n",
    "def extract_source(html_tag):\n",
    "    tag_info = BeautifulSoup(html_tag)\n",
    "    tag = tag_info.find('a')\n",
    "    source = tag.contents[0]\n",
    "    return source"
   ]
  },
  {
   "cell_type": "code",
   "execution_count": null,
   "metadata": {
    "id": "2huVviNI9Ylc"
   },
   "outputs": [],
   "source": [
    "df['Source'] = df['Source'].apply(extract_source)"
   ]
  },
  {
   "cell_type": "code",
   "execution_count": null,
   "metadata": {
    "id": "eI6lbv_XEhvX"
   },
   "outputs": [],
   "source": [
    "# Renaming columns\n",
    "\n",
    "df.columns = ['tweet_time', 'tweet_id', 'Text', 'Username', 'Permalink', 'User', \n",
    "              'Outlinks', 'CountLinks', 'ReplyCount', 'RetweetCount', 'LikeCount',\n",
    "              'QuoteCount', 'ConversationId', 'Language', 'Source', 'Media','QuotedTweet', \n",
    "              'MentionedUsers', 'hashtag', 'hastag_counts']"
   ]
  },
  {
   "cell_type": "code",
   "execution_count": null,
   "metadata": {
    "colab": {
     "base_uri": "https://localhost:8080/",
     "height": 384
    },
    "id": "gdohMaVS9dvh",
    "outputId": "a7cffacd-a352-4ba9-930c-c5b269e31ee0"
   },
   "outputs": [],
   "source": [
    "# Changing all hashtags to lower case to avoid duplicants\n",
    "\n",
    "def lower_hashtags(tags_str):\n",
    "    tags_list = eval(tags_str)\n",
    "    tags = [tag.lower() for tag in tags_list]\n",
    "    return tags\n",
    "    \n",
    "df['hashtag'] = df['hashtag'].apply(lower_hashtags)"
   ]
  },
  {
   "cell_type": "code",
   "execution_count": null,
   "metadata": {
    "id": "I9feLhFY-sE4"
   },
   "outputs": [],
   "source": [
    "# Creating hashtags table (hashtag_id, hashtag)\n",
    "\n",
    "hashtag_dict = {}\n",
    "\n",
    "hashtag_list = set()\n",
    "for row in df.itertuples():\n",
    "    if row.hastag_counts > 0:\n",
    "        for tag in row.hashtag:\n",
    "            hashtag_list.add(tag)\n",
    "\n",
    "file = open(\"hashtags_table.csv\", \"w\", encoding='UTF-16', newline='')\n",
    "writer = csv.DictWriter(file, fieldnames=[\"id\", \"hashtag\"])\n",
    "i = 1\n",
    "writer.writeheader()\n",
    "for row in hashtag_list:\n",
    "    hashtag_dict[row] = i\n",
    "    writer.writerow({\"id\":i, \"hashtag\":row})\n",
    "    i += 1\n",
    "\n",
    "file.close()"
   ]
  },
  {
   "cell_type": "code",
   "execution_count": null,
   "metadata": {
    "id": "3u4vh_LQ0Vy6"
   },
   "outputs": [],
   "source": [
    "# creating tweets has hashtags table\n",
    "\n",
    "file = open(\"tweets_has_hashtags_table.csv\", \"w\", encoding='UTF-16', newline='')\n",
    "writer = csv.DictWriter(file, fieldnames=[\"tweet_id\", \"hashtag_id\"])\n",
    "writer.writeheader()\n",
    "for row in df.itertuples():\n",
    "    if row.hastag_counts > 0:\n",
    "        for tag in row.hashtag:\n",
    "            writer.writerow({\"tweet_id\": row.tweet_id, \"hashtag_id\": hashtag_dict[tag]})\n",
    "\n",
    "file.close()"
   ]
  },
  {
   "cell_type": "code",
   "execution_count": null,
   "metadata": {
    "id": "pbSpB6Zj09E2"
   },
   "outputs": [],
   "source": [
    "# Creating tweet metrics table\n",
    "\n",
    "df1 = df[[\"tweet_id\", \"LikeCount\", \"RetweetCount\", \"ReplyCount\", \"QuoteCount\", \"hastag_counts\", \n",
    "          \"Language\", \"Source\", \"MentionedUsers\", \"Media\", \"Outlinks\", \"CountLinks\"]]\n",
    "\n",
    "df1.to_csv(\"tweet_metrics_table.csv\", index=False)"
   ]
  },
  {
   "cell_type": "code",
   "execution_count": null,
   "metadata": {
    "id": "qcOy5YY31C4G"
   },
   "outputs": [],
   "source": [
    "# Creating users table\n",
    "\n",
    "users = set()\n",
    "for row in df.itertuples():\n",
    "    users.add(row.Username)\n",
    "\n",
    "file = open(\"users_table.csv\", \"w\", newline='')\n",
    "writer = csv.DictWriter(file, fieldnames=[\"user_id\", \"username\"])\n",
    "writer.writeheader()\n",
    "\n",
    "uid = 1\n",
    "for row in users:\n",
    "    writer.writerow({\"user_id\": uid, \"username\":row})\n",
    "    uid += 1\n",
    "\n",
    "file.close()"
   ]
  },
  {
   "cell_type": "code",
   "execution_count": null,
   "metadata": {
    "colab": {
     "base_uri": "https://localhost:8080/",
     "height": 525
    },
    "id": "fOdYJQ1D1hDN",
    "outputId": "b308da0d-bed1-4ed8-fe1a-5e2642d0a04c"
   },
   "outputs": [],
   "source": [
    "# Adding user_id column to main DataFrame\n",
    "\n",
    "ucount = 1\n",
    "user_dict = {}\n",
    "for user in users:\n",
    "    user_dict[user] = ucount\n",
    "    ucount += 1\n",
    "\n",
    "df[\"user_id\"] = df[\"Username\"].apply(lambda x: user_dict[x])"
   ]
  },
  {
   "cell_type": "code",
   "execution_count": null,
   "metadata": {
    "id": "4McC5IcY2JTh"
   },
   "outputs": [],
   "source": [
    "# Creating tweets table\n",
    "\n",
    "tweets = df[[\"tweet_id\", \"Text\", \"tweet_time\", \"user_id\", \"Permalink\", \"ConversationId\", \"QuotedTweet\"]]\n",
    "tweets.to_csv(\"tweets_table.csv\", index=False)"
   ]
  },
  {
   "cell_type": "code",
   "execution_count": null,
   "metadata": {},
   "outputs": [],
   "source": []
  },
  {
   "cell_type": "code",
   "execution_count": null,
   "metadata": {},
   "outputs": [],
   "source": [
    "# Establishing Connection to Database (host for Cloud Connection -> RDS Instance EndPoint)\n",
    "# Enter DB username, password, schema name\n",
    "\n",
    "from mysql.connector import connect\n",
    "\n",
    "db_connection = connect(host=\"database-lab1.c4j8ssgcqmdi.us-west-1.rds.amazonaws.com\", user=input(\"Enter username: \"), password=getpass(\"Enter password: \"), database=input(\"Enter the Schema Name: \"))\n",
    "cursor = db_connection.cursor()"
   ]
  },
  {
   "cell_type": "markdown",
   "metadata": {},
   "source": [
    "We will now execute SQL code to define tables and relationships and later insert the data into tables"
   ]
  },
  {
   "cell_type": "code",
   "execution_count": null,
   "metadata": {},
   "outputs": [],
   "source": [
    "CREATE_USERS_TABLE = \"CREATE TABLE users(user_id INT AUTO_INCREMENT PRIMARY KEY, username VARCHAR(255), post_count INT DEFAULT 0)\""
   ]
  },
  {
   "cell_type": "code",
   "execution_count": null,
   "metadata": {},
   "outputs": [],
   "source": [
    "cursor.execute(CREATE_USERS_TABLE)\n",
    "db_connection.commit()"
   ]
  },
  {
   "cell_type": "code",
   "execution_count": null,
   "metadata": {},
   "outputs": [],
   "source": [
    "CREATE_TWEETS_TABLE = \"CREATE TABLE tweets(tweet_id BIGINT PRIMARY KEY, tweet_text TEXT(5000), tweet_time DATETIME, user_id INT, Permalink VARCHAR(255), ConversationId BIGINT, QuotedTweet VARCHAR(255), FOREIGN KEY(user_id) REFERENCES users(user_id))\""
   ]
  },
  {
   "cell_type": "code",
   "execution_count": null,
   "metadata": {},
   "outputs": [],
   "source": [
    "cursor.execute(CREATE_TWEETS_TABLE)\n",
    "db_connection.commit()"
   ]
  },
  {
   "cell_type": "markdown",
   "metadata": {},
   "source": [
    "#### Trigger to increment post_count if a new tweet is inserted in tweet table\n",
    "##### Executed in workbench"
   ]
  },
  {
   "cell_type": "code",
   "execution_count": null,
   "metadata": {},
   "outputs": [],
   "source": [
    "CREATE_HASHTAGS_TABLE = \"CREATE TABLE hashtags(hashtag_id INT PRIMARY KEY, hashtag VARCHAR(255))\""
   ]
  },
  {
   "cell_type": "code",
   "execution_count": null,
   "metadata": {},
   "outputs": [],
   "source": [
    "cursor.execute(CREATE_HASHTAGS_TABLE)\n",
    "db_connection.commit()"
   ]
  },
  {
   "cell_type": "code",
   "execution_count": null,
   "metadata": {},
   "outputs": [],
   "source": [
    "CREATE_THH_TABLE = \"CREATE TABLE tweets_has_hashtags (tweet_id BIGINT, hashtag_id INT, FOREIGN KEY(tweet_id) REFERENCES tweets(tweet_id), FOREIGN KEY(hashtag_id) REFERENCES hashtags(hashtag_id))\""
   ]
  },
  {
   "cell_type": "code",
   "execution_count": null,
   "metadata": {},
   "outputs": [],
   "source": [
    "cursor.execute(CREATE_THH_TABLE)\n",
    "db_connection.commit()"
   ]
  },
  {
   "cell_type": "code",
   "execution_count": null,
   "metadata": {},
   "outputs": [],
   "source": [
    "CREATE_TWEET_METRICS_TABLE = \"CREATE TABLE tweet_metrics(tweet_id BIGINT, like_count INT, retweet_count INT, reply_count INT, \\\n",
    "                                quote_count INT, hashtag_count INT, language VARCHAR(20), source VARCHAR(45), \\\n",
    "                                mentioned_users TEXT(5000), media TEXT(5000), outlinks TEXT(5000), countlinks TEXT(5000), \\\n",
    "                                FOREIGN KEY(tweet_id) REFERENCES tweets(tweet_id))\""
   ]
  },
  {
   "cell_type": "code",
   "execution_count": null,
   "metadata": {},
   "outputs": [],
   "source": [
    "cursor.execute(CREATE_TWEET_METRICS_TABLE)\n",
    "db_connection.commit()"
   ]
  },
  {
   "cell_type": "code",
   "execution_count": null,
   "metadata": {},
   "outputs": [],
   "source": [
    "# Insert values into users table\n",
    "\n",
    "with open('users_table.csv') as csvfile:\n",
    "    csvreader = csv.reader(csvfile)\n",
    "    \n",
    "    # To skip the header row (title)\n",
    "    header = next(csvreader)\n",
    "\n",
    "    for row in csvreader:\n",
    "        sql = \"INSERT INTO users (username) VALUES ('{}')\".format(row[1])\n",
    "        cursor.execute(sql)\n",
    "\n",
    "# Save changes to database\n",
    "db_connection.commit()"
   ]
  },
  {
   "cell_type": "code",
   "execution_count": null,
   "metadata": {},
   "outputs": [],
   "source": [
    "# Insert values into tweets table\n",
    "\n",
    "with open('tweets_table.csv', \"r\", encoding='utf-8', errors='ignore') as csvfile:\n",
    "    csvreader = csv.reader(csvfile)\n",
    "    header = next(csvreader)\n",
    "    \n",
    "    for row in csvreader:\n",
    "        sql = \"\"\"INSERT INTO tweets VALUES ({}, %s, '{}', {}, %s, {}, '{}')\"\"\".format(row[0], row[2], row[3], row[5], row[6])\n",
    "        cursor.execute(sql, tuple([row[1], row[4]]))\n",
    "\n",
    "db_connection.commit()"
   ]
  },
  {
   "cell_type": "code",
   "execution_count": null,
   "metadata": {},
   "outputs": [],
   "source": [
    "# Insert values into hashtags table\n",
    "\n",
    "with open('hashtags_table.csv', \"r\", encoding='utf-16', errors='ignore') as csvfile:\n",
    "    csvreader = csv.reader(csvfile)\n",
    "    header = next(csvreader)\n",
    "    \n",
    "    for row in csvreader:\n",
    "        sql = \"\"\"INSERT INTO hashtags VALUES ({}, %s)\"\"\".format(row[0])  \n",
    "        cursor.execute(sql, tuple([row[1]]))\n",
    "\n",
    "db_connection.commit()"
   ]
  },
  {
   "cell_type": "code",
   "execution_count": null,
   "metadata": {},
   "outputs": [],
   "source": [
    "# Insert values into tweets_has_hashtags table\n",
    "\n",
    "with open('tweets_has_hashtags_table.csv', \"r\", encoding='utf-16', errors='ignore') as csvfile:\n",
    "    csvreader = csv.reader(csvfile)\n",
    "    header = next(csvreader)\n",
    "    \n",
    "    for row in csvreader:\n",
    "        sql = \"\"\"INSERT INTO tweets_has_hashtags VALUES ({}, {})\"\"\".format(row[0], row[1])\n",
    "        cursor.execute(sql)\n",
    "\n",
    "db_connection.commit()"
   ]
  },
  {
   "cell_type": "code",
   "execution_count": null,
   "metadata": {},
   "outputs": [],
   "source": [
    "# Insert values into tweet_metrics table\n",
    "\n",
    "with open('tweet_metrics_table.csv', \"r\", encoding='utf-8', errors='ignore') as csvfile:\n",
    "    csvreader = csv.reader(csvfile)\n",
    "    header = next(csvreader)\n",
    "    \n",
    "    for row in csvreader:\n",
    "        sql = \"\"\"INSERT INTO tweet_metrics VALUES ({}, {}, {}, {}, {}, {}, %s, %s, %s, %s, %s, %s)\"\"\".format(int(row[0]), int(row[1]), \n",
    "                                                                                                             int(row[2]), int(row[3]), \n",
    "                                                                                                             int(row[4]), int(row[5]))\n",
    "        cursor.execute(sql, tuple([row[6], row[7], row[8], row[9], row[10], row[11]]))\n",
    "\n",
    "db_connection.commit()"
   ]
  },
  {
   "cell_type": "code",
   "execution_count": null,
   "metadata": {},
   "outputs": [],
   "source": [
    "cursor.close()\n",
    "db_connection.close()"
   ]
  },
  {
   "cell_type": "code",
   "execution_count": null,
   "metadata": {},
   "outputs": [],
   "source": []
  },
  {
   "cell_type": "code",
   "execution_count": 1,
   "metadata": {},
   "outputs": [
    {
     "name": "stdout",
     "output_type": "stream",
     "text": [
      "Enter username: keerthana\n",
      "Enter password: notsostrong\n"
     ]
    }
   ],
   "source": [
    "# Demonstrating AWS Connectivity with python\n",
    "\n",
    "from mysql.connector import connect\n",
    "\n",
    "endpoint = \"database-lab1.c4j8ssgcqmdi.us-west-1.rds.amazonaws.com\"\n",
    "try:\n",
    "    db_connection = connect(host=endpoint, username = input(\"Enter username: \"), password=input(\"Enter password: \"), database=\"chatgpt\")\n",
    "except Exception as e:\n",
    "    print(\"Error Occurred - {}. Please try again\".format(e))\n",
    "    \n",
    "cursor = db_connection.cursor()\n",
    "query = \"SELECT u.username, AVG(tm.like_count) FROM tweet_metrics tm JOIN tweets t ON tm.tweet_id = t.tweet_id JOIN users u ON t.user_id = u.user_id GROUP BY u.username ORDER BY AVG(tm.like_count) DESC\"\n",
    "\n",
    "cursor.execute(query)\n",
    "results = cursor.fetchall()"
   ]
  },
  {
   "cell_type": "code",
   "execution_count": 3,
   "metadata": {},
   "outputs": [
    {
     "name": "stdout",
     "output_type": "stream",
     "text": [
      "Top 5 users with highest average like counts..\n",
      "('GRDecter', Decimal('24061.0000'))\n",
      "('WatcherGuru', Decimal('10836.5000'))\n",
      "('Veskii_', Decimal('9125.0000'))\n",
      "('mccormick_ted', Decimal('8468.5000'))\n",
      "('sashishi_EN', Decimal('6230.6667'))\n"
     ]
    }
   ],
   "source": [
    "print(\"Top 5 users with highest average like counts..\")\n",
    "for i in range(5):\n",
    "    print(results[i])"
   ]
  },
  {
   "cell_type": "code",
   "execution_count": 4,
   "metadata": {},
   "outputs": [],
   "source": [
    "cursor.close()\n",
    "db_connection.close()"
   ]
  },
  {
   "cell_type": "code",
   "execution_count": null,
   "metadata": {},
   "outputs": [],
   "source": []
  }
 ],
 "metadata": {
  "colab": {
   "provenance": []
  },
  "kernelspec": {
   "display_name": "Python 3 (ipykernel)",
   "language": "python",
   "name": "python3"
  },
  "language_info": {
   "codemirror_mode": {
    "name": "ipython",
    "version": 3
   },
   "file_extension": ".py",
   "mimetype": "text/x-python",
   "name": "python",
   "nbconvert_exporter": "python",
   "pygments_lexer": "ipython3",
   "version": "3.9.13"
  }
 },
 "nbformat": 4,
 "nbformat_minor": 1
}
